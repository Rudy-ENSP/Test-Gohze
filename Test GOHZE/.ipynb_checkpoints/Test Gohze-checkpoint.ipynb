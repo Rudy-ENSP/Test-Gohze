{
 "cells": [
  {
   "cell_type": "code",
   "execution_count": 1,
   "metadata": {},
   "outputs": [],
   "source": [
    "ORIENT=['N','E','W','S']\n"
   ]
  },
  {
   "cell_type": "code",
   "execution_count": 8,
   "metadata": {},
   "outputs": [],
   "source": [
    "def get_file_info(file):\n",
    "    file_object  = open(file, \"r\")\n",
    "    content=file_object.readlines()\n",
    "    file_object.close()\n",
    "\n",
    "    return(content)"
   ]
  },
  {
   "cell_type": "code",
   "execution_count": 26,
   "metadata": {},
   "outputs": [
    {
     "name": "stdout",
     "output_type": "stream",
     "text": [
      "['55\\n', '1 2 N\\n', 'GAGAGAGAA\\n', '3 3 E\\n', 'AADAADADDA ']\n"
     ]
    }
   ],
   "source": [
    "print(get_file_info('test.txt'))"
   ]
  },
  {
   "cell_type": "code",
   "execution_count": 31,
   "metadata": {},
   "outputs": [],
   "source": [
    "class Tondeuse:\n",
    "  position=[0,0]\n",
    "  orientation=\"\"\n",
    "    \n",
    "  def __repr__(self):\n",
    "    return \"<Tondeuse: Position = \" + str(self.position) + \"; orientation = \" + str(self.orientation) + \">\"  \n",
    "  def mouvement_tondeuse(sequence,tondeuse):\n",
    "        for i in range(len(sequence)):\n",
    "          #print(len(sequence))\n",
    "          indice=ORIENT.index(tondeuse.orientation) \n",
    "          #print(indice)\n",
    "          if (sequence[i]==\"D\"):\n",
    "              tondeuse.orientation=ORIENT[indice+1]\n",
    "          if (sequence[i]==\"G\"):\n",
    "              tondeuse.orientation=ORIENT[indice-1]\n",
    "          if (sequence[i]==\"A\"):\n",
    "              directon=tondeuse.orientation\n",
    "              if (directon==\"N\"):\n",
    "                  tondeuse.position[0]=tondeuse.position[0]+1\n",
    "              if (directon==\"S\"):\n",
    "                  tondeuse.position[0]=tondeuse.position[0]-1\n",
    "              if (directon==\"E\"):\n",
    "                  tondeuse.position[0]=tondeuse.position[1]-1\n",
    "              if (directon==\"W\"):\n",
    "                  tondeuse.position[0]=tondeuse.position[1]+1\n",
    "        return tondeuse;\n"
   ]
  },
  {
   "cell_type": "code",
   "execution_count": 32,
   "metadata": {},
   "outputs": [
    {
     "name": "stdout",
     "output_type": "stream",
     "text": [
      "<Tondeuse: Position = [2, 1]; orientation = N>\n"
     ]
    },
    {
     "data": {
      "text/plain": [
       "<Tondeuse: Position = [2, 1]; orientation = N>"
      ]
     },
     "execution_count": 32,
     "metadata": {},
     "output_type": "execute_result"
    }
   ],
   "source": [
    "t1 = Tondeuse()\n",
    "t1.position=[1,1]\n",
    "t1.orientation=\"N\"\n",
    "mouvement_tondeuse(\"GAGAGAGAA\",t1)"
   ]
  },
  {
   "cell_type": "code",
   "execution_count": null,
   "metadata": {},
   "outputs": [],
   "source": []
  }
 ],
 "metadata": {
  "kernelspec": {
   "display_name": "Python 3",
   "language": "python",
   "name": "python3"
  },
  "language_info": {
   "codemirror_mode": {
    "name": "ipython",
    "version": 3
   },
   "file_extension": ".py",
   "mimetype": "text/x-python",
   "name": "python",
   "nbconvert_exporter": "python",
   "pygments_lexer": "ipython3",
   "version": "3.8.5"
  }
 },
 "nbformat": 4,
 "nbformat_minor": 4
}
