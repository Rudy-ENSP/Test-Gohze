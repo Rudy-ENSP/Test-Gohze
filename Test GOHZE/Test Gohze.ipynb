{
 "cells": [
  {
   "cell_type": "code",
   "execution_count": 4,
   "metadata": {},
   "outputs": [],
   "source": [
    "import matplotlib.pyplot as plt"
   ]
  },
  {
   "cell_type": "code",
   "execution_count": 5,
   "metadata": {},
   "outputs": [],
   "source": [
    "ORIENT=['N','E','S','W']\n",
    "pelouse=[5,5]\n"
   ]
  },
  {
   "cell_type": "code",
   "execution_count": 6,
   "metadata": {},
   "outputs": [],
   "source": [
    "def get_file_info(file):\n",
    "    file_object  = open(file, \"r\")\n",
    "    content=file_object.readlines()\n",
    "    file_object.close()\n",
    "\n",
    "    return(content)"
   ]
  },
  {
   "cell_type": "code",
   "execution_count": 7,
   "metadata": {},
   "outputs": [
    {
     "name": "stdout",
     "output_type": "stream",
     "text": [
      "['5 5\\n', '5 5 N\\n', 'AAAAA\\n', '5 5 S\\n', 'AAAAA\\n']\n"
     ]
    }
   ],
   "source": [
    "print(get_file_info('test.txt'))"
   ]
  },
  {
   "cell_type": "code",
   "execution_count": 15,
   "metadata": {},
   "outputs": [],
   "source": [
    "class Tondeuse:\n",
    "  position=[0,0]\n",
    "  orientation=\"\"\n",
    "\n",
    "    \n",
    "  def __repr__(self):\n",
    "    return \"<Tondeuse: Position = \" + str(self.position) + \"; orientation = \" + str(self.orientation) + \">\" \n",
    "\n",
    "def mouvement_tondeuse(sequence,tondeuse):\n",
    "        for i in range(len(sequence)):\n",
    "          #print(len(sequence))\n",
    "          indice=ORIENT.index(tondeuse.orientation) \n",
    "          #print(indice)\n",
    "          if (sequence[i]==\"D\"):\n",
    "                if(tondeuse.orientation==\"W\"):\n",
    "                  tondeuse.orientation=\"N\"\n",
    "                else:\n",
    "                  tondeuse.orientation =ORIENT[indice+1]\n",
    "          if (sequence[i]==\"G\"):\n",
    "             if(tondeuse.orientation==\"N\"):\n",
    "               tondeuse.orientation=\"W\"\n",
    "             else:\n",
    "               tondeuse.orientation=ORIENT[indice-1]\n",
    "          if (sequence[i]==\"A\"):\n",
    "              directon=tondeuse.orientation\n",
    "              if (directon==\"N\"):\n",
    "                if(int(tondeuse.position[1])<int(pelouse[1])):\n",
    "                  tondeuse.position[1]=tondeuse.position[1]+1\n",
    "              if (directon==\"S\"):\n",
    "                if(int(tondeuse.position[1])>0):\n",
    "                  tondeuse.position[1]=tondeuse.position[1]-1\n",
    "              if (directon==\"E\"):\n",
    "                if(int(tondeuse.position[0])<int(pelouse[0])):\n",
    "                  tondeuse.position[0]=tondeuse.position[0]+1\n",
    "              if (directon==\"W\"):\n",
    "                if(int(tondeuse.position[0])>0):\n",
    "                   tondeuse.position[0]=tondeuse.position[0]-1\n",
    "                \n",
    "        \n",
    "        return tondeuse;\n"
   ]
  },
  {
   "cell_type": "code",
   "execution_count": 16,
   "metadata": {},
   "outputs": [],
   "source": [
    "class Pelouse:\n",
    "  largeur=5\n",
    "  longueur=5"
   ]
  },
  {
   "cell_type": "code",
   "execution_count": 17,
   "metadata": {},
   "outputs": [
    {
     "name": "stdout",
     "output_type": "stream",
     "text": [
      "Etat de la tondeuse au depart\n",
      "<Tondeuse: Position = [5, 5]; orientation = N>\n",
      "Mouvement\n",
      "AAAAA\n",
      "Etat de la tondeuse à la fin\n",
      "<Tondeuse: Position = [5, 5]; orientation = N>\n",
      "Etat de la tondeuse au depart\n",
      "<Tondeuse: Position = [5, 5]; orientation = S>\n",
      "Mouvement\n",
      "AAAAA\n",
      "Etat de la tondeuse à la fin\n",
      "<Tondeuse: Position = [5, 0]; orientation = S>\n",
      "[5, 5, 5, 5]\n",
      "[5, 5, 5, 0]\n"
     ]
    },
    {
     "data": {
      "text/plain": [
       "[<matplotlib.lines.Line2D at 0x7f1f9fa1fc10>]"
      ]
     },
     "execution_count": 17,
     "metadata": {},
     "output_type": "execute_result"
    },
    {
     "data": {
      "image/png": "[encoded data removed]",
      "text/plain": [
       "<Figure size 432x288 with 1 Axes>"
      ]
     },
     "metadata": {
      "needs_background": "light"
     },
     "output_type": "display_data"
    }
   ],
   "source": [
    "t1 = Tondeuse()\n",
    "t1.position=[1,1]\n",
    "t1.orientation=\"N\"\n",
    "## recuperation des données du fichier pour la suite \n",
    "\n",
    "data=get_file_info('test.txt')\n",
    "#print(data)\n",
    "pelouse=data[0].split()\n",
    "liste_tondeuse=[]\n",
    "#print(pelouse)\n",
    "#initialisation des tondeuses\n",
    "x1=[]\n",
    "y1=[]\n",
    "for i in range(1,len(data)):\n",
    "    if (i%2==1):\n",
    "        position=data[i].split()\n",
    "        temp=Tondeuse()\n",
    "        temp.position=[position[0],position[1]]\n",
    "        x1.append(int(position[0]))\n",
    "        y1.append(int(position[1]))\n",
    "        temp.orientation=position[2]\n",
    "        sequence=data[i+1].split()[0]\n",
    "        liste_tondeuse.append({\"tondeuse\":temp,\"sequence\":sequence})\n",
    "        \n",
    "#print(liste_tondeuse)\n",
    "\n",
    "#deplacement des tondeuses\n",
    "\n",
    "for tondeuse in liste_tondeuse:\n",
    "    temp=Tondeuse()\n",
    "    temp.position=[int(tondeuse[\"tondeuse\"].position[0]),int(tondeuse[\"tondeuse\"].position[1])]\n",
    "    temp.orientation=tondeuse[\"tondeuse\"].orientation\n",
    "    print(\"Etat de la tondeuse au depart\")\n",
    "    print(temp)\n",
    "    print(\"Mouvement\")\n",
    "    print(tondeuse[\"sequence\"])\n",
    "    print(\"Etat de la tondeuse à la fin\")\n",
    "    print(mouvement_tondeuse(tondeuse[\"sequence\"],temp))\n",
    "    x1.append(mouvement_tondeuse(tondeuse[\"sequence\"],temp).position[0])\n",
    "    y1.append(mouvement_tondeuse(tondeuse[\"sequence\"],temp).position[1])\n",
    "    \n",
    "\n",
    "\n",
    "print(x1)\n",
    "print(y1)\n",
    "plt.title(\"Tondeuses after\")\n",
    "plt.xlabel(\"abscisse\")\n",
    "plt.ylabel(\"Ordonnée\")\n",
    "plt.annotate(\"depart 1\", (1, 2))\n",
    "plt.annotate(\"depart 2\",(3,3))\n",
    "plt.annotate(\"arrivée 1\", (1, 3))\n",
    "plt.annotate(\"arrivée 2\",(5,1))\n",
    "plt.plot(x1,y1,'o')\n",
    "    \n",
    "    \n"
   ]
  },
  {
   "cell_type": "code",
   "execution_count": null,
   "metadata": {},
   "outputs": [],
   "source": []
  },
  {
   "cell_type": "code",
   "execution_count": null,
   "metadata": {},
   "outputs": [],
   "source": []
  }
 ],
 "metadata": {
  "kernelspec": {
   "display_name": "Python 3",
   "language": "python",
   "name": "python3"
  },
  "language_info": {
   "codemirror_mode": {
    "name": "ipython",
    "version": 3
   },
   "file_extension": ".py",
   "mimetype": "text/x-python",
   "name": "python",
   "nbconvert_exporter": "python",
   "pygments_lexer": "ipython3",
   "version": "3.8.5"
  }
 },
 "nbformat": 4,
 "nbformat_minor": 4
}
